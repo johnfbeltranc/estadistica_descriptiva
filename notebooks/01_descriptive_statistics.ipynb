{
 "cells": [
  {
   "cell_type": "markdown",
   "id": "6c63dcfe",
   "metadata": {},
   "source": [
    "# estadistica_descriptiva\n",
    "- author: John Fredy Beltran Cuellar \n",
    "- fecha: 08/12/2025\n",
    "- goal: se realizan ejercicios de Estadistica Descriptiva"
   ]
  },
  {
   "cell_type": "markdown",
   "id": "eb6cd7aa",
   "metadata": {},
   "source": [
    "\n",
    "#**Descriptive Statistics Problems**\n",
    "\n",
    "#**Exercise 1** \n",
    "\n",
    "– How long are movie titles?\n",
    "\n",
    "In this exercise, you will apply descriptive statistics techniques to a real dataset: a database of 1000 popular movies from the IMDb website.\n",
    "\n",
    "From the title of each movie, you will:\n",
    "\n",
    "    Calculate the title length (in characters).\n",
    "    Obtain key statistical metrics: mean, median, mode, range, variance, standard deviation, skewness, and kurtosis.\n",
    "    Identify the longest and shortest titles.\n",
    "    Visualize the distribution of these lengths with a histogram and a density curve.\n",
    "\n"
   ]
  },
  {
   "cell_type": "code",
   "execution_count": 53,
   "id": "96656d54",
   "metadata": {},
   "outputs": [
    {
     "data": {
      "text/html": [
       "<div>\n",
       "<style scoped>\n",
       "    .dataframe tbody tr th:only-of-type {\n",
       "        vertical-align: middle;\n",
       "    }\n",
       "\n",
       "    .dataframe tbody tr th {\n",
       "        vertical-align: top;\n",
       "    }\n",
       "\n",
       "    .dataframe thead th {\n",
       "        text-align: right;\n",
       "    }\n",
       "</style>\n",
       "<table border=\"1\" class=\"dataframe\">\n",
       "  <thead>\n",
       "    <tr style=\"text-align: right;\">\n",
       "      <th></th>\n",
       "      <th>star_rating</th>\n",
       "      <th>title</th>\n",
       "      <th>content_rating</th>\n",
       "      <th>genre</th>\n",
       "      <th>duration</th>\n",
       "      <th>actors_list</th>\n",
       "    </tr>\n",
       "  </thead>\n",
       "  <tbody>\n",
       "    <tr>\n",
       "      <th>0</th>\n",
       "      <td>9.3</td>\n",
       "      <td>The Shawshank Redemption</td>\n",
       "      <td>R</td>\n",
       "      <td>Crime</td>\n",
       "      <td>142</td>\n",
       "      <td>[u'Tim Robbins', u'Morgan Freeman', u'Bob Gunt...</td>\n",
       "    </tr>\n",
       "    <tr>\n",
       "      <th>1</th>\n",
       "      <td>9.2</td>\n",
       "      <td>The Godfather</td>\n",
       "      <td>R</td>\n",
       "      <td>Crime</td>\n",
       "      <td>175</td>\n",
       "      <td>[u'Marlon Brando', u'Al Pacino', u'James Caan']</td>\n",
       "    </tr>\n",
       "    <tr>\n",
       "      <th>2</th>\n",
       "      <td>9.1</td>\n",
       "      <td>The Godfather: Part II</td>\n",
       "      <td>R</td>\n",
       "      <td>Crime</td>\n",
       "      <td>200</td>\n",
       "      <td>[u'Al Pacino', u'Robert De Niro', u'Robert Duv...</td>\n",
       "    </tr>\n",
       "    <tr>\n",
       "      <th>3</th>\n",
       "      <td>9.0</td>\n",
       "      <td>The Dark Knight</td>\n",
       "      <td>PG-13</td>\n",
       "      <td>Action</td>\n",
       "      <td>152</td>\n",
       "      <td>[u'Christian Bale', u'Heath Ledger', u'Aaron E...</td>\n",
       "    </tr>\n",
       "    <tr>\n",
       "      <th>4</th>\n",
       "      <td>8.9</td>\n",
       "      <td>Pulp Fiction</td>\n",
       "      <td>R</td>\n",
       "      <td>Crime</td>\n",
       "      <td>154</td>\n",
       "      <td>[u'John Travolta', u'Uma Thurman', u'Samuel L....</td>\n",
       "    </tr>\n",
       "    <tr>\n",
       "      <th>...</th>\n",
       "      <td>...</td>\n",
       "      <td>...</td>\n",
       "      <td>...</td>\n",
       "      <td>...</td>\n",
       "      <td>...</td>\n",
       "      <td>...</td>\n",
       "    </tr>\n",
       "    <tr>\n",
       "      <th>974</th>\n",
       "      <td>7.4</td>\n",
       "      <td>Tootsie</td>\n",
       "      <td>PG</td>\n",
       "      <td>Comedy</td>\n",
       "      <td>116</td>\n",
       "      <td>[u'Dustin Hoffman', u'Jessica Lange', u'Teri G...</td>\n",
       "    </tr>\n",
       "    <tr>\n",
       "      <th>975</th>\n",
       "      <td>7.4</td>\n",
       "      <td>Back to the Future Part III</td>\n",
       "      <td>PG</td>\n",
       "      <td>Adventure</td>\n",
       "      <td>118</td>\n",
       "      <td>[u'Michael J. Fox', u'Christopher Lloyd', u'Ma...</td>\n",
       "    </tr>\n",
       "    <tr>\n",
       "      <th>976</th>\n",
       "      <td>7.4</td>\n",
       "      <td>Master and Commander: The Far Side of the World</td>\n",
       "      <td>PG-13</td>\n",
       "      <td>Action</td>\n",
       "      <td>138</td>\n",
       "      <td>[u'Russell Crowe', u'Paul Bettany', u'Billy Bo...</td>\n",
       "    </tr>\n",
       "    <tr>\n",
       "      <th>977</th>\n",
       "      <td>7.4</td>\n",
       "      <td>Poltergeist</td>\n",
       "      <td>PG</td>\n",
       "      <td>Horror</td>\n",
       "      <td>114</td>\n",
       "      <td>[u'JoBeth Williams', u\"Heather O'Rourke\", u'Cr...</td>\n",
       "    </tr>\n",
       "    <tr>\n",
       "      <th>978</th>\n",
       "      <td>7.4</td>\n",
       "      <td>Wall Street</td>\n",
       "      <td>R</td>\n",
       "      <td>Crime</td>\n",
       "      <td>126</td>\n",
       "      <td>[u'Charlie Sheen', u'Michael Douglas', u'Tamar...</td>\n",
       "    </tr>\n",
       "  </tbody>\n",
       "</table>\n",
       "<p>979 rows × 6 columns</p>\n",
       "</div>"
      ],
      "text/plain": [
       "     star_rating                                            title  \\\n",
       "0            9.3                         The Shawshank Redemption   \n",
       "1            9.2                                    The Godfather   \n",
       "2            9.1                           The Godfather: Part II   \n",
       "3            9.0                                  The Dark Knight   \n",
       "4            8.9                                     Pulp Fiction   \n",
       "..           ...                                              ...   \n",
       "974          7.4                                          Tootsie   \n",
       "975          7.4                      Back to the Future Part III   \n",
       "976          7.4  Master and Commander: The Far Side of the World   \n",
       "977          7.4                                      Poltergeist   \n",
       "978          7.4                                      Wall Street   \n",
       "\n",
       "    content_rating      genre  duration  \\\n",
       "0                R      Crime       142   \n",
       "1                R      Crime       175   \n",
       "2                R      Crime       200   \n",
       "3            PG-13     Action       152   \n",
       "4                R      Crime       154   \n",
       "..             ...        ...       ...   \n",
       "974             PG     Comedy       116   \n",
       "975             PG  Adventure       118   \n",
       "976          PG-13     Action       138   \n",
       "977             PG     Horror       114   \n",
       "978              R      Crime       126   \n",
       "\n",
       "                                           actors_list  \n",
       "0    [u'Tim Robbins', u'Morgan Freeman', u'Bob Gunt...  \n",
       "1      [u'Marlon Brando', u'Al Pacino', u'James Caan']  \n",
       "2    [u'Al Pacino', u'Robert De Niro', u'Robert Duv...  \n",
       "3    [u'Christian Bale', u'Heath Ledger', u'Aaron E...  \n",
       "4    [u'John Travolta', u'Uma Thurman', u'Samuel L....  \n",
       "..                                                 ...  \n",
       "974  [u'Dustin Hoffman', u'Jessica Lange', u'Teri G...  \n",
       "975  [u'Michael J. Fox', u'Christopher Lloyd', u'Ma...  \n",
       "976  [u'Russell Crowe', u'Paul Bettany', u'Billy Bo...  \n",
       "977  [u'JoBeth Williams', u\"Heather O'Rourke\", u'Cr...  \n",
       "978  [u'Charlie Sheen', u'Michael Douglas', u'Tamar...  \n",
       "\n",
       "[979 rows x 6 columns]"
      ]
     },
     "execution_count": 53,
     "metadata": {},
     "output_type": "execute_result"
    }
   ],
   "source": [
    "import pandas as pd\n",
    "import numpy as np\n",
    "import matplotlib.pyplot as plt\n",
    "from scipy.stats import skew, kurtosis, mode\n",
    "\n",
    "# Load IMDb dataset\n",
    "url = \"../imdb_1000/imdb_1000.csv\"\n",
    "df = pd.read_csv(url)\n",
    "df "
   ]
  },
  {
   "cell_type": "code",
   "execution_count": 54,
   "id": "3a8ee43e",
   "metadata": {},
   "outputs": [
    {
     "data": {
      "text/plain": [
       "0    24\n",
       "1    13\n",
       "2    22\n",
       "3    15\n",
       "4    12\n",
       "Name: longitud_titulo, dtype: int64"
      ]
     },
     "execution_count": 54,
     "metadata": {},
     "output_type": "execute_result"
    }
   ],
   "source": [
    "df[\"longitud_titulo\"] = df[\"title\"].apply(len)\n",
    "df[\"longitud_titulo\"].head()"
   ]
  },
  {
   "cell_type": "code",
   "execution_count": 55,
   "id": "d0b47aaa",
   "metadata": {},
   "outputs": [
    {
     "name": "stdout",
     "output_type": "stream",
     "text": [
      "Media: 15.481103166496425\n",
      "Mediana: 14.0\n",
      "Moda: 12\n",
      "Rango: 67\n",
      "Varianza: 72.1067488840288\n",
      "Desviación estándar: 8.491569282766807\n"
     ]
    }
   ],
   "source": [
    "media = df[\"longitud_titulo\"].mean()\n",
    "\n",
    "mediana = df[\"longitud_titulo\"].median()\n",
    "\n",
    "moda = df[\"longitud_titulo\"].mode()[0]\n",
    "\n",
    "rango = df[\"longitud_titulo\"].max() - df[\"longitud_titulo\"].min()\n",
    "\n",
    "varianza = df[\"longitud_titulo\"].var()\n",
    "\n",
    "desviacion = df[\"longitud_titulo\"].std()\n",
    "\n",
    "print(f\"Media: {media}\")\n",
    "print(f\"Mediana: {mediana}\")\n",
    "print(f\"Moda: {moda}\")\n",
    "print(f\"Rango: {rango}\")\n",
    "print(f\"Varianza: {varianza}\")\n",
    "print(f\"Desviación estándar: {desviacion}\")\n",
    "\n",
    "\n"
   ]
  },
  {
   "cell_type": "code",
   "execution_count": 56,
   "id": "3a6d53db",
   "metadata": {},
   "outputs": [
    {
     "name": "stdout",
     "output_type": "stream",
     "text": [
      "Asimetria: 1.5252523464631278\n",
      "Curtosis: 3.8122887061291544\n"
     ]
    }
   ],
   "source": [
    "asimetria = df[\"longitud_titulo\"].skew()\n",
    "\n",
    "curtosis = df[\"longitud_titulo\"].kurt()\n",
    "\n",
    "print(f\"Asimetria: {asimetria}\")\n",
    "print(f\"Curtosis: {curtosis}\")"
   ]
  },
  {
   "cell_type": "code",
   "execution_count": 57,
   "id": "e9c039bb",
   "metadata": {},
   "outputs": [
    {
     "name": "stdout",
     "output_type": "stream",
     "text": [
      "Titulo mas corto: M\n",
      "Titulo_mas_largo: Dr. Strangelove or: How I Learned to Stop Worrying and Love the Bomb\n"
     ]
    }
   ],
   "source": [
    "titulo_mas_corto = df.loc[df[\"longitud_titulo\"].idxmin(), \"title\"]\n",
    "\n",
    "titulo_mas_largo = df.loc[df[\"longitud_titulo\"].idxmax(), \"title\"]\n",
    "\n",
    "print(f\"Titulo mas corto: {titulo_mas_corto}\")\n",
    "print(f\"Titulo_mas_largo: {titulo_mas_largo}\")"
   ]
  },
  {
   "cell_type": "code",
   "execution_count": 58,
   "id": "4eb3b4e0",
   "metadata": {},
   "outputs": [
    {
     "data": {
      "image/png": "[encoded data removed]",
      "text/plain": [
       "<Figure size 1000x500 with 1 Axes>"
      ]
     },
     "metadata": {},
     "output_type": "display_data"
    }
   ],
   "source": [
    "plt.figure(figsize=(10, 5))\n",
    "plt.hist(df[\"longitud_titulo\"], bins=20, edgecolor='black', alpha=0.7)\n",
    "plt.title(\"Distribución de la longitud de los títulos\")\n",
    "plt.xlabel(\"Cantidad de caracteres\")\n",
    "plt.ylabel(\"Frecuencia\")\n",
    "plt.grid(True)\n",
    "min_len = df[\"longitud_titulo\"].min()\n",
    "max_len = df[\"longitud_titulo\"].max()\n",
    "plt.axvline(min_len, color='red', linestyle='--', label=f'Mínima longitud: {min_len}')\n",
    "plt.axvline(max_len, color='green', linestyle='--', label=f'Máxima longitud: {max_len}')\n",
    "plt.text(min_len -1, plt.ylim()[1]*0.85, f'{min_len}\\nNombre más corto', color='red', ha='right')\n",
    "plt.text(max_len +1, plt.ylim()[1]*0.85, f'{max_len}\\nNombre más largo', color='green', ha='left')\n",
    "\n",
    "plt.legend()\n",
    "plt.show()"
   ]
  },
  {
   "cell_type": "markdown",
   "id": "7a900238",
   "metadata": {},
   "source": [
    "#**Exercise 2**\n",
    " \n",
    "-Manual Calculation of Standard Deviation\n",
    "\n",
    "In this exercise, you will manually calculate the standard deviation by selecting five actual titles from the movie dataset you loaded earlier."
   ]
  },
  {
   "cell_type": "code",
   "execution_count": 59,
   "id": "370529ef",
   "metadata": {},
   "outputs": [
    {
     "data": {
      "text/plain": [
       "[7, 5, 18, 15, 18]"
      ]
     },
     "execution_count": 59,
     "metadata": {},
     "output_type": "execute_result"
    }
   ],
   "source": [
    "data = df[\"longitud_titulo\"].sample(5, random_state=123).tolist()\n",
    "data\n"
   ]
  },
  {
   "cell_type": "code",
   "execution_count": 65,
   "id": "644d40cf",
   "metadata": {},
   "outputs": [
    {
     "name": "stdout",
     "output_type": "stream",
     "text": [
      "Media: 16.0\n",
      "Suma de diferencias al cuadrado: 222.0\n",
      "Varianza muestral: 55.5\n",
      "Desviación estándar muestral: 7.44983221287567\n"
     ]
    }
   ],
   "source": [
    "\n",
    "data = [13, 14, 17, 8, 28 ]\n",
    "media_data = sum(data) / len(data)\n",
    "print(f\"Media: {media_data}\")\n",
    "\n",
    "suma_diferencias = sum((x - media_data)**2 for x in data)\n",
    "print(f\"Suma de diferencias al cuadrado: {suma_diferencias}\")\n",
    "\n",
    "varianza_manual = suma_diferencias / (len(data) - 1)\n",
    "desviacion_manual = varianza_manual ** 0.5\n",
    "\n",
    "print(f\"Varianza muestral: {varianza_manual}\")\n",
    "print(f\"Desviación estándar muestral: {desviacion_manual}\")"
   ]
  },
  {
   "cell_type": "code",
   "execution_count": 62,
   "id": "e1bdbdfc",
   "metadata": {},
   "outputs": [
    {
     "name": "stdout",
     "output_type": "stream",
     "text": [
      "Media: 12.6\n",
      "Suma de diferencias al cuadrado: 153.2\n",
      "Varianza: 30.639999999999997\n",
      "Desviación estándar: 5.535341001239218\n"
     ]
    }
   ],
   "source": [
    "data2 = [7, 5, 18, 15, 18]\n",
    "\n",
    "# Calcula la media de los 5 valores\n",
    "media_data = sum(data2) / len(data2)\n",
    "print(f\"Media: {media_data}\")\n",
    "\n",
    "Media: 15.4\n",
    "\n",
    "# Calcula las diferencias al cuadrado con respecto a la media\n",
    "suma_diferencias = sum((x - media_data)**2 for x in data2)\n",
    "print(f\"Suma de diferencias al cuadrado: {suma_diferencias}\")\n",
    "\n",
    "\n",
    "\n",
    "# Calcula la varianza (promedio de las diferencias al cuadrado) y su raíz cuadrada para obtener la desviación\n",
    "varianza_manual = suma_diferencias / len(data2)\n",
    "desviacion_manual = varianza_manual ** 0.5\n",
    "\n",
    "print(f\"Varianza: {varianza_manual}\")\n",
    "print(f\"Desviación estándar: {desviacion_manual}\")\n",
    "\n",
    "\n",
    "\n"
   ]
  }
 ],
 "metadata": {
  "kernelspec": {
   "display_name": ".venv",
   "language": "python",
   "name": "python3"
  },
  "language_info": {
   "codemirror_mode": {
    "name": "ipython",
    "version": 3
   },
   "file_extension": ".py",
   "mimetype": "text/x-python",
   "name": "python",
   "nbconvert_exporter": "python",
   "pygments_lexer": "ipython3",
   "version": "3.12.1"
  }
 },
 "nbformat": 4,
 "nbformat_minor": 5
}
